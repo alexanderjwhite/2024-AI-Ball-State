{
 "cells": [
  {
   "cell_type": "markdown",
   "id": "658be76b",
   "metadata": {},
   "source": [
    "## Azure Document Intelligence and Computer Vision Overview\n",
    "\n",
    "Azure Document Intelligence, part of Azure's AI services, leverages advanced machine learning and computer vision technologies, including **LayoutLMv3**, the most cutting-edge document AI model, to analyze and extract information from a variety of documents, such as invoices, receipts, and tax forms. LayoutLMv3 is designed to understand both the text and layout of documents, making it highly effective at capturing complex document structures and relationships between text elements. This model enables Azure Document Intelligence to automate the tedious process of manually reviewing and entering data into structured formats, identifying key fields, extracting text, and recognizing entities within complex documents.\n",
    "\n",
    "Computer vision is a broader field of artificial intelligence that allows machines to interpret and understand visual inputs such as images or scanned documents. In the context of document intelligence, computer vision helps systems \"read\" documents, recognize patterns, and extract meaningful information from unstructured or semi-structured data sources, making it an essential tool for automating tasks such as document processing, compliance, and auditing.\n",
    "\n",
    "In this section, we use Azure Document Intelligence to analyze and extract data from tax-related documents, automating the process of identifying document types and extracting relevant fields like wages, taxes, and filing statuses. Azure Document Intelligence can be explored further at [documentintelligence.ai.azure.com](https://documentintelligence.ai.azure.com).\n",
    "\n",
    "Below is a breakdown of the steps we follow:\n",
    "\n",
    "1. **Installing Required Packages**  \n",
    "   We begin by installing the necessary packages, including `azure-ai-documentintelligence` and `xlsxwriter`, which are essential for document analysis and exporting the results to Excel.\n",
    "\n"
   ]
  },
  {
   "cell_type": "code",
   "execution_count": null,
   "id": "bdeebe4c",
   "metadata": {},
   "outputs": [],
   "source": [
    "!pip install azure-ai-documentintelligence==1.0.0b4 xlsxwriter"
   ]
  },
  {
   "cell_type": "markdown",
   "id": "f779fe2d",
   "metadata": {},
   "source": [
    "2. **Importing Libraries**  \n",
    "   We import the required libraries for interacting with Azure's `DocumentIntelligenceClient` to analyze documents, and `pandas` for organizing and exporting data into structured formats.\n",
    "   \n",
    "3. **Setting up Azure Credentials**  \n",
    "   Azure Document Intelligence requires an endpoint and a key to authenticate and access the service. These credentials are obtained from the Azure portal and allow us to interact with the Azure API."
   ]
  },
  {
   "cell_type": "code",
   "execution_count": null,
   "id": "deb4d0b0",
   "metadata": {},
   "outputs": [],
   "source": [
    "# import libraries\n",
    "import os\n",
    "from azure.core.credentials import AzureKeyCredential\n",
    "from azure.ai.documentintelligence import DocumentIntelligenceClient\n",
    "from azure.ai.documentintelligence.models import AnalyzeResult\n",
    "from azure.ai.documentintelligence.models import AnalyzeDocumentRequest\n",
    "\n",
    "endpoint = \"https://aiballstate.cognitiveservices.azure.com/\"\n",
    "key = \"56e7553dff434d8693edaaf6e8962214\""
   ]
  },
  {
   "cell_type": "markdown",
   "id": "6bfaab64",
   "metadata": {},
   "source": [
    "4. **Document URL**  \n",
    "   The URL of a tax document (in PDF format) is provided. This document will be analyzed using Azure’s prebuilt models designed for specific document types, such as tax forms."
   ]
  },
  {
   "cell_type": "code",
   "execution_count": null,
   "id": "fe7cacac",
   "metadata": {},
   "outputs": [],
   "source": [
    "tax_url = \"https://raw.githubusercontent.com/alexanderjwhite/2024-AI-Ball-State/main/us-tax.pdf\""
   ]
  },
  {
   "cell_type": "markdown",
   "id": "8bcb6e04",
   "metadata": {},
   "source": [
    "5. **Initializing the Azure Client**  \n",
    "   We create an instance of the `DocumentIntelligenceClient` using the provided endpoint and credentials. This client is used to send requests to the Azure service, allowing us to analyze documents and receive extracted data."
   ]
  },
  {
   "cell_type": "code",
   "execution_count": null,
   "id": "56aaca4d",
   "metadata": {},
   "outputs": [],
   "source": [
    "document_intelligence_client = DocumentIntelligenceClient(\n",
    "    endpoint=endpoint, credential=AzureKeyCredential(key),api_version=\"2024-07-31-preview\"\n",
    ")"
   ]
  },
  {
   "cell_type": "markdown",
   "id": "6ab57760",
   "metadata": {},
   "source": [
    "6. **Running the Document Analysis**  \n",
    "   The client sends a request to the Azure service to analyze the document. The document is processed using prebuilt models, specifically designed for tax documents, to extract relevant fields like form types (W-2, 1040) and other key information."
   ]
  },
  {
   "cell_type": "code",
   "execution_count": null,
   "id": "4c6dec93",
   "metadata": {},
   "outputs": [],
   "source": [
    "poller = document_intelligence_client.begin_analyze_document(\n",
    "    \"prebuilt-tax.us\", AnalyzeDocumentRequest(url_source=tax_url)\n",
    ")"
   ]
  },
  {
   "cell_type": "markdown",
   "id": "628ed575",
   "metadata": {},
   "source": [
    "7. **Extracting Document Data**  \n",
    "   Once the analysis is complete, the results are processed to extract document types and fields. For example, for a W-2 form, fields like wages, tax year, and federal income tax withheld are extracted, along with confidence scores indicating the accuracy of the extraction."
   ]
  },
  {
   "cell_type": "code",
   "execution_count": null,
   "id": "f9abef62",
   "metadata": {},
   "outputs": [],
   "source": [
    "tax_docs = poller.result()"
   ]
  },
  {
   "cell_type": "code",
   "execution_count": null,
   "id": "1612277a",
   "metadata": {},
   "outputs": [],
   "source": [
    "for document in tax_docs.documents:\n",
    "    print(document['docType'])"
   ]
  },
  {
   "cell_type": "code",
   "execution_count": null,
   "id": "5fffedc5",
   "metadata": {},
   "outputs": [],
   "source": [
    "for document in tax_docs.documents:\n",
    "    print(document['docType'])\n",
    "    document_keys = document['fields'].keys()\n",
    "    for key in document_keys:\n",
    "        print(key)\n",
    "    \n",
    "    \n",
    "    \n",
    "#     print(documents['docType'])\n",
    "# tax_docs.documents[0]['fields'].keys()\n"
   ]
  },
  {
   "cell_type": "markdown",
   "id": "8aa78024",
   "metadata": {},
   "source": [
    "8. **Organizing Data in a DataFrame**  \n",
    "   The extracted fields are structured into a pandas DataFrame, where each row contains a field name, its corresponding value, and the confidence score of the extraction. This allows us to easily manipulate and analyze the data."
   ]
  },
  {
   "cell_type": "code",
   "execution_count": null,
   "id": "8fc009d1",
   "metadata": {},
   "outputs": [],
   "source": [
    "import pandas as pd\n",
    "fields = tax_docs.documents[0]['fields']\n",
    "data = []\n",
    "for field_name, field_info in fields.items():\n",
    "    # Extract field value (handle different value types)\n",
    "    if 'valueString' in field_info:\n",
    "        value = field_info['valueString']\n",
    "    elif 'valueNumber' in field_info:\n",
    "        value = field_info['valueNumber']\n",
    "    else:\n",
    "        value = None\n",
    "\n",
    "    # Extract confidence\n",
    "    confidence = field_info.get('confidence', None)\n",
    "\n",
    "    # Append to the data list\n",
    "    data.append([field_name, value, confidence])\n",
    "\n",
    "# Create DataFrame\n",
    "df = pd.DataFrame(data, columns=['Field Name', 'Field Value', 'Confidence'])"
   ]
  },
  {
   "cell_type": "code",
   "execution_count": null,
   "id": "d5badc8b",
   "metadata": {},
   "outputs": [],
   "source": [
    "df"
   ]
  },
  {
   "cell_type": "markdown",
   "id": "ca5af901",
   "metadata": {},
   "source": [
    "9. **Saving Data to an Excel File**  \n",
    "   The `xlsxwriter` package is used to save the DataFrame to an Excel file. Each document type is saved on a separate sheet within the Excel file, allowing for organized and easy access to the extracted information."
   ]
  },
  {
   "cell_type": "code",
   "execution_count": null,
   "id": "8a547bf2",
   "metadata": {},
   "outputs": [],
   "source": [
    "# Create an Excel writer object to save the output\n",
    "excel_writer = pd.ExcelWriter('tax_documents.xlsx', engine='xlsxwriter')\n",
    "\n",
    "# Iterate through each document in tax_docs.documents\n",
    "for doc in tax_docs.documents:\n",
    "#     print(doc)\n",
    "    # Extract document type (you can adapt this based on your specific data)\n",
    "    doc_type = doc['docType']  # 'Unknown' if 'documentType' is missing\n",
    "\n",
    "    # Prepare data for the table\n",
    "    data = []\n",
    "    for field_name, field_info in doc['fields'].items():\n",
    "        # Extract field value (handle different value types)\n",
    "        if 'valueString' in field_info:\n",
    "            value = field_info['valueString']\n",
    "        elif 'valueNumber' in field_info:\n",
    "            value = field_info['valueNumber']\n",
    "        else:\n",
    "            value = None\n",
    "\n",
    "        # Extract confidence\n",
    "        confidence = field_info.get('confidence', None)\n",
    "\n",
    "        # Append to the data list\n",
    "        data.append([field_name, value, confidence])\n",
    "\n",
    "    # Create DataFrame\n",
    "    df = pd.DataFrame(data, columns=['Field Name', 'Field Value', 'Confidence'])\n",
    "\n",
    "    # Write each DataFrame to a new sheet in the Excel file\n",
    "    df.to_excel(excel_writer, sheet_name=doc_type[:31], index=False)  # Excel sheet names are limited to 31 characters\n",
    "\n",
    "# Save the Excel file\n",
    "excel_writer.save()\n",
    "\n",
    "# Output confirmation\n",
    "print(\"Excel file with multiple document tabs has been created.\")\n"
   ]
  },
  {
   "cell_type": "markdown",
   "id": "6220401c",
   "metadata": {},
   "source": [
    "10. **Final Output**  \n",
    "   Once the Excel file is created, a confirmation message is printed, indicating the successful completion of the process. The Excel file contains multiple tabs, each representing a different document type (W-2, 1040, etc.), with detailed field extractions for each.\n",
    "\n",
    "This workflow demonstrates the power of Azure Document Intelligence in automating document processing tasks, enabling efficient extraction and organization of data from complex documents like tax forms. By leveraging AI and computer vision, this process reduces manual data entry efforts and ensures accurate, structured outputs for further analysis."
   ]
  }
 ],
 "metadata": {
  "kernelspec": {
   "display_name": "Python 3 (ipykernel)",
   "language": "python",
   "name": "python3"
  },
  "language_info": {
   "codemirror_mode": {
    "name": "ipython",
    "version": 3
   },
   "file_extension": ".py",
   "mimetype": "text/x-python",
   "name": "python",
   "nbconvert_exporter": "python",
   "pygments_lexer": "ipython3",
   "version": "3.11.4"
  }
 },
 "nbformat": 4,
 "nbformat_minor": 5
}
